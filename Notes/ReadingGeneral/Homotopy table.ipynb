{
 "cells": [
  {
   "cell_type": "code",
   "execution_count": null,
   "metadata": {},
   "outputs": [],
   "source": []
  },
  {
   "cell_type": "code",
   "execution_count": 15,
   "metadata": {},
   "outputs": [],
   "source": [
    "hs = {}\n",
    "\n",
    "# S^0\n",
    "for i in sequence (0, 10):\n",
    "    hs[(0, i)] = (0, )\n",
    "\n",
    "# S^1\n",
    "for i in sequence (2, 10):\n",
    "    hs[(1, i)] = (0, )\n",
    "\n",
    "\n",
    "# Degree\n",
    "for i in sequence (1, 10):\n",
    "    hs[(i, i)] = (1,)\n",
    "    for j in sequence(0, i):\n",
    "        hs[(i, j)] = (0, )\n",
    "        \n",
    "        \n",
    "# Stable\n",
    "num_stems = 7\n",
    "hs[(2, 2)] = (1,)\n",
    "hs[(3, 4)] = (2,)\n",
    "hs[(4, 6)] = (2,)\n",
    "hs[(5, 8)] = (24,)\n",
    "hs[(6, 10)] = (0,)\n",
    "hs[(7, 12)] = (0,)\n",
    "hs[(8, 14)] = (2,)\n",
    "        \n",
    "# Suspension\n",
    "for k in sequence (1, num_stems-1):\n",
    "    for n in sequence(k+3, 10):\n",
    "        hs[(n, n+k)] = hs[(k+2, 2*k+2)]"
   ]
  },
  {
   "cell_type": "code",
   "execution_count": 16,
   "metadata": {},
   "outputs": [],
   "source": [
    "# S^2\n",
    "hs[(2, 3)] = (1,)\n",
    "hs[(2, 4)] = (2,)\n",
    "hs[(2, 5)] = (2,)\n",
    "hs[(2, 6)] = (12,)\n",
    "hs[(2, 7)] = (2,)\n",
    "hs[(2, 8)] = (2,)\n",
    "hs[(2, 9)] = (3,)\n",
    "\n",
    "# S^3\n",
    "hs[(3, 4)] = (2,)\n",
    "hs[(3, 5)] = (2,)\n",
    "hs[(3, 6)] = (12,)\n",
    "hs[(3, 7)] = (2,)\n",
    "hs[(3, 8)] = (2,)\n",
    "hs[(3, 9)] = (3,)\n",
    "\n",
    "# S^4\n",
    "hs[(4, 5)] = (2,)\n",
    "hs[(4, 6)] = (2,)\n",
    "hs[(4, 7)] = (1, 12)\n",
    "hs[(4, 8)] = (22,)\n",
    "hs[(4, 9)] = (22,)\n",
    "\n",
    "# S^5\n",
    "hs[(5, 6)] = (2,)\n",
    "hs[(5, 7)] = (2,)\n",
    "hs[(5, 8)] = (24,)\n",
    "hs[(5, 9)] = (2,)\n",
    "\n",
    "# S^6\n",
    "hs[(6, 7)] = (2,)\n",
    "hs[(6, 8)] = (2,)\n",
    "hs[(6, 8)] = (24,)"
   ]
  },
  {
   "cell_type": "code",
   "execution_count": 19,
   "metadata": {},
   "outputs": [],
   "source": [
    "s = \"|   |\" + \"|\".join([\" $\\\\pi_{%d}$ \"%k for k in sequence(1, 10)]) + \"|\" + \"\\n\"\n",
    "#print(s)\n",
    "s = s + \"|---|---|---|---|---|---|---|---|---|---|---|\\n\"\n",
    "for i in sequence(1, 10):\n",
    "    s = s + \"| $S_{%d}$ | \"%i\n",
    "    for j in sequence(1, 10):\n",
    "        try:\n",
    "            if hs[(i, j)] == (0,): \n",
    "                s = s + \"0\"\n",
    "            else:\n",
    "                s = s + \"$\" + \" \\\\times \".join( [\"F^1\" if i==1 else \"C_{%d}\"%i for i in hs[(i, j)]] ) + \"$\"\n",
    "        except KeyError:\n",
    "            s = s + \" \"\n",
    "        s = s + \" | \"\n",
    "    s = s + \"\\n\""
   ]
  },
  {
   "cell_type": "code",
   "execution_count": 20,
   "metadata": {},
   "outputs": [
    {
     "name": "stdout",
     "output_type": "stream",
     "text": [
      "|   | $\\pi_{1}$ | $\\pi_{2}$ | $\\pi_{3}$ | $\\pi_{4}$ | $\\pi_{5}$ | $\\pi_{6}$ | $\\pi_{7}$ | $\\pi_{8}$ | $\\pi_{9}$ | $\\pi_{10}$ |\n",
      "|---|---|---|---|---|---|---|---|---|---|---|\n",
      "| $S_{1}$ | 0 | 0 | 0 | 0 | 0 | 0 | 0 | 0 | 0 | 0 | \n",
      "| $S_{2}$ | 0 | $F^1$ | $F^1$ | $C_{2}$ | $C_{2}$ | $C_{12}$ | $C_{2}$ | $C_{2}$ | $C_{3}$ |   | \n",
      "| $S_{3}$ | 0 | 0 | 0 | $C_{2}$ | $C_{2}$ | $C_{12}$ | $C_{2}$ | $C_{2}$ | $C_{3}$ |   | \n",
      "| $S_{4}$ | 0 | 0 | 0 | 0 | $C_{2}$ | $C_{2}$ | $F^1 \\times C_{12}$ | $C_{22}$ | $C_{22}$ |   | \n",
      "| $S_{5}$ | 0 | 0 | 0 | 0 | 0 | $C_{2}$ | $C_{2}$ | $C_{24}$ | $C_{2}$ |   | \n",
      "| $S_{6}$ | 0 | 0 | 0 | 0 | 0 | 0 | $C_{2}$ | $C_{24}$ | $C_{24}$ | 0 | \n",
      "| $S_{7}$ | 0 | 0 | 0 | 0 | 0 | 0 | 0 | $C_{2}$ | $C_{2}$ | $C_{24}$ | \n",
      "| $S_{8}$ | 0 | 0 | 0 | 0 | 0 | 0 | 0 | 0 | $C_{2}$ | $C_{2}$ | \n",
      "| $S_{9}$ | 0 | 0 | 0 | 0 | 0 | 0 | 0 | 0 | 0 | $C_{2}$ | \n",
      "| $S_{10}$ | 0 | 0 | 0 | 0 | 0 | 0 | 0 | 0 | 0 | 0 | \n",
      "\n"
     ]
    }
   ],
   "source": [
    "print(s)"
   ]
  }
 ],
 "metadata": {
  "kernelspec": {
   "display_name": "SageMath 9.4",
   "language": "sage",
   "name": "sagemath"
  },
  "language_info": {
   "codemirror_mode": {
    "name": "ipython",
    "version": 3
   },
   "file_extension": ".py",
   "mimetype": "text/x-python",
   "name": "python",
   "nbconvert_exporter": "python",
   "pygments_lexer": "ipython3",
   "version": "3.9.5"
  }
 },
 "nbformat": 4,
 "nbformat_minor": 4
}
